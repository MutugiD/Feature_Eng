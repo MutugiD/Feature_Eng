{
 "cells": [
  {
   "cell_type": "code",
   "execution_count": null,
   "metadata": {},
   "outputs": [],
   "source": [
    "artifacts_root: artifacts\n",
    "\n",
    "data_ingestion:\n",
    "  root_dir: artifacts/data_ingestion\n",
    "  stocks:\n",
    "    - AAPL\n",
    "    - MSFT\n",
    "    - GOOGL\n",
    "  start_date: \"2023-01-01\"\n",
    "  end_date: \"2023-09-01\"\n",
    "  output_directory: artifacts/data\n"
   ]
  },
  {
   "cell_type": "code",
   "execution_count": 1,
   "metadata": {},
   "outputs": [
    {
     "data": {
      "text/plain": [
       "'d:\\\\projects\\\\pet\\\\MLFlow\\\\Feature_Eng'"
      ]
     },
     "execution_count": 1,
     "metadata": {},
     "output_type": "execute_result"
    }
   ],
   "source": [
    "import os\n",
    "os.chdir(\"../\")\n",
    "%pwd"
   ]
  },
  {
   "cell_type": "code",
   "execution_count": 2,
   "metadata": {},
   "outputs": [],
   "source": [
    "from dataclasses import dataclass\n",
    "from pathlib import Path\n",
    "from typing import List\n",
    "\n",
    "@dataclass\n",
    "class DataIngestionConfig:\n",
    "  root_dir: Path\n",
    "  stocks: List[str]\n",
    "  start_date: str\n",
    "  end_date: str\n",
    "  output_directory: Path\n",
    "\n",
    "from mlFeature.constants import *\n",
    "from mlFeature.utils.common import read_yaml, create_directories"
   ]
  },
  {
   "cell_type": "code",
   "execution_count": 3,
   "metadata": {},
   "outputs": [],
   "source": [
    "class ConfigurationManager:\n",
    "    def __init__(\n",
    "        self,\n",
    "        config_filepath = CONFIG_FILE_PATH,\n",
    "        params_filepath = PARAMS_FILE_PATH,\n",
    "        schema_filepath = SCHEMA_FILE_PATH):\n",
    "\n",
    "        self.config = read_yaml(config_filepath)\n",
    "        self.params = read_yaml(params_filepath)\n",
    "        self.schema = read_yaml(schema_filepath)\n",
    "\n",
    "        create_directories([self.config.artifacts_root])\n",
    "    \n",
    "    def get_data_ingestion_config(self) -> DataIngestionConfig:\n",
    "        config = self.config.data_ingestion\n",
    "\n",
    "        create_directories([config.root_dir])\n",
    "        data_ingestion_config = DataIngestionConfig(\n",
    "            root_dir=config.root_dir,\n",
    "            stocks=config.stocks,\n",
    "            start_date=config.start_date,\n",
    "            end_date=config.end_date,\n",
    "            output_directory=config.output_directory\n",
    "        )\n",
    "        return data_ingestion_config\n",
    "    \n",
    "    \n"
   ]
  },
  {
   "cell_type": "code",
   "execution_count": 4,
   "metadata": {},
   "outputs": [],
   "source": [
    "import os\n",
    "import urllib.request as request\n",
    "import zipfile\n",
    "from mlFeature import logger\n",
    "from mlFeature.utils.common import get_size\n",
    "import yfinance as yf"
   ]
  },
  {
   "cell_type": "code",
   "execution_count": 7,
   "metadata": {},
   "outputs": [
    {
     "name": "stdout",
     "output_type": "stream",
     "text": [
      "[2023-09-14 00:47:11,046: INFO: common: yaml file: config\\config.yaml loaded successfully]\n",
      "[2023-09-14 00:47:11,048: INFO: common: yaml file: params.yaml loaded successfully]\n",
      "[2023-09-14 00:47:11,050: INFO: common: yaml file: schema.yaml loaded successfully]\n",
      "[2023-09-14 00:47:11,052: INFO: common: created directory at: artifacts]\n",
      "[2023-09-14 00:47:11,054: INFO: common: created directory at: artifacts/data_ingestion]\n",
      "[2023-09-14 00:47:11,055: INFO: 1552191217: File already exists of size: ~ 0 KB]\n",
      "[*********************100%%**********************]  1 of 1 completed\n",
      "[2023-09-14 00:47:12,051: INFO: 1552191217: AAPL download! Data info: (167, 6) rows x 6 columns]\n",
      "[*********************100%%**********************]  1 of 1 completed\n",
      "[2023-09-14 00:47:12,937: INFO: 1552191217: MSFT download! Data info: (167, 6) rows x 6 columns]\n",
      "[*********************100%%**********************]  1 of 1 completed\n",
      "[2023-09-14 00:47:13,758: INFO: 1552191217: GOOGL download! Data info: (167, 6) rows x 6 columns]\n"
     ]
    }
   ],
   "source": [
    "class DataIngestion:\n",
    "    def __init__(self, config: DataIngestionConfig):\n",
    "        self.config = config\n",
    "\n",
    "    def download_yahoo_finance_data(self):\n",
    "        if not os.path.exists(self.config.output_directory):\n",
    "            os.mkdir(self.config.output_directory)\n",
    "        else:\n",
    "            logger.info(f\"File already exists of size: {get_size(Path(self.config.output_directory))}\")\n",
    "            # Download data for each stock in the configuration\n",
    "        for stock in self.config.stocks:\n",
    "                data = yf.download(stock, start=self.config.start_date, end=self.config.end_date)\n",
    "                # Save data to the specified directory\n",
    "                data.to_csv(f\"{self.config.output_directory}/{stock}.csv\")\n",
    "                logger.info(f\"{stock} download! Data info: {data.shape} rows x {data.shape[1]} columns\")\n",
    "        \n",
    "try:\n",
    "    config_manager = ConfigurationManager()\n",
    "    data_ingestion_config = config_manager.get_data_ingestion_config()\n",
    "    data_ingestion = DataIngestion(config=data_ingestion_config)\n",
    "    data_ingestion.download_yahoo_finance_data()\n",
    "except Exception as e:\n",
    "    logger.error(f\"Error: {str(e)}\")\n",
    "    raise e\n"
   ]
  },
  {
   "cell_type": "code",
   "execution_count": null,
   "metadata": {},
   "outputs": [],
   "source": []
  }
 ],
 "metadata": {
  "kernelspec": {
   "display_name": "features",
   "language": "python",
   "name": "python3"
  },
  "language_info": {
   "codemirror_mode": {
    "name": "ipython",
    "version": 3
   },
   "file_extension": ".py",
   "mimetype": "text/x-python",
   "name": "python",
   "nbconvert_exporter": "python",
   "pygments_lexer": "ipython3",
   "version": "3.9.16"
  },
  "orig_nbformat": 4
 },
 "nbformat": 4,
 "nbformat_minor": 2
}
